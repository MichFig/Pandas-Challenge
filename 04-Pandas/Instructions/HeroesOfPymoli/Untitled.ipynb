{
 "cells": [
  {
   "cell_type": "code",
   "execution_count": 1,
   "metadata": {},
   "outputs": [],
   "source": [
    "import pandas as pd\n"
   ]
  },
  {
   "cell_type": "code",
   "execution_count": 2,
   "metadata": {},
   "outputs": [],
   "source": [
    "dataset_url = 'https://github.com/datagy/pivot_table_pandas/raw/master/sample_pivot.xlsx'\n",
    "df = pd.read_excel(dataset_url)"
   ]
  },
  {
   "cell_type": "code",
   "execution_count": 3,
   "metadata": {},
   "outputs": [
    {
     "output_type": "execute_result",
     "data": {
      "text/plain": [
       "        Date Region                 Type  Units  Sales\n",
       "0 2020-07-11   East  Children's Clothing   18.0    306\n",
       "1 2020-09-23  North  Children's Clothing   14.0    448\n",
       "2 2020-04-02  South     Women's Clothing   17.0    425\n",
       "3 2020-02-28   East  Children's Clothing   26.0    832\n",
       "4 2020-03-19   West     Women's Clothing    3.0     33"
      ],
      "text/html": "<div>\n<style scoped>\n    .dataframe tbody tr th:only-of-type {\n        vertical-align: middle;\n    }\n\n    .dataframe tbody tr th {\n        vertical-align: top;\n    }\n\n    .dataframe thead th {\n        text-align: right;\n    }\n</style>\n<table border=\"1\" class=\"dataframe\">\n  <thead>\n    <tr style=\"text-align: right;\">\n      <th></th>\n      <th>Date</th>\n      <th>Region</th>\n      <th>Type</th>\n      <th>Units</th>\n      <th>Sales</th>\n    </tr>\n  </thead>\n  <tbody>\n    <tr>\n      <th>0</th>\n      <td>2020-07-11</td>\n      <td>East</td>\n      <td>Children's Clothing</td>\n      <td>18.0</td>\n      <td>306</td>\n    </tr>\n    <tr>\n      <th>1</th>\n      <td>2020-09-23</td>\n      <td>North</td>\n      <td>Children's Clothing</td>\n      <td>14.0</td>\n      <td>448</td>\n    </tr>\n    <tr>\n      <th>2</th>\n      <td>2020-04-02</td>\n      <td>South</td>\n      <td>Women's Clothing</td>\n      <td>17.0</td>\n      <td>425</td>\n    </tr>\n    <tr>\n      <th>3</th>\n      <td>2020-02-28</td>\n      <td>East</td>\n      <td>Children's Clothing</td>\n      <td>26.0</td>\n      <td>832</td>\n    </tr>\n    <tr>\n      <th>4</th>\n      <td>2020-03-19</td>\n      <td>West</td>\n      <td>Women's Clothing</td>\n      <td>3.0</td>\n      <td>33</td>\n    </tr>\n  </tbody>\n</table>\n</div>"
     },
     "metadata": {},
     "execution_count": 3
    }
   ],
   "source": [
    "df.head()"
   ]
  },
  {
   "cell_type": "code",
   "execution_count": 7,
   "metadata": {},
   "outputs": [
    {
     "output_type": "execute_result",
     "data": {
      "text/plain": [
       "             Sales      Units\n",
       "Region                       \n",
       "East    408.182482  19.732360\n",
       "North   438.924051  19.202643\n",
       "South   432.956204  20.423358\n",
       "West    452.029412  19.294118"
      ],
      "text/html": "<div>\n<style scoped>\n    .dataframe tbody tr th:only-of-type {\n        vertical-align: middle;\n    }\n\n    .dataframe tbody tr th {\n        vertical-align: top;\n    }\n\n    .dataframe thead th {\n        text-align: right;\n    }\n</style>\n<table border=\"1\" class=\"dataframe\">\n  <thead>\n    <tr style=\"text-align: right;\">\n      <th></th>\n      <th>Sales</th>\n      <th>Units</th>\n    </tr>\n    <tr>\n      <th>Region</th>\n      <th></th>\n      <th></th>\n    </tr>\n  </thead>\n  <tbody>\n    <tr>\n      <th>East</th>\n      <td>408.182482</td>\n      <td>19.732360</td>\n    </tr>\n    <tr>\n      <th>North</th>\n      <td>438.924051</td>\n      <td>19.202643</td>\n    </tr>\n    <tr>\n      <th>South</th>\n      <td>432.956204</td>\n      <td>20.423358</td>\n    </tr>\n    <tr>\n      <th>West</th>\n      <td>452.029412</td>\n      <td>19.294118</td>\n    </tr>\n  </tbody>\n</table>\n</div>"
     },
     "metadata": {},
     "execution_count": 7
    }
   ],
   "source": [
    "pivot1_ =pd.pivot_table(df, index ='Region')\n",
    "pivot1_"
   ]
  },
  {
   "cell_type": "code",
   "execution_count": null,
   "metadata": {},
   "outputs": [],
   "source": []
  }
 ],
 "metadata": {
  "kernelspec": {
   "display_name": "Python 3",
   "language": "python",
   "name": "python3"
  },
  "language_info": {
   "codemirror_mode": {
    "name": "ipython",
    "version": 3
   },
   "file_extension": ".py",
   "mimetype": "text/x-python",
   "name": "python",
   "nbconvert_exporter": "python",
   "pygments_lexer": "ipython3",
   "version": "3.8.3-final"
  }
 },
 "nbformat": 4,
 "nbformat_minor": 4
}