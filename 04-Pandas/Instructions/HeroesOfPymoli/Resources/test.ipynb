# Dependencies and Setup
import pandas as pd
import numpy as np

# Raw data file
file_to_load = "Resources/purchase_data.csv"

# Read purchasing file and store into pandas data frame
purchase_data_df = pd.read_csv(file_to_load)
purchase_data_df = pd.DataFrame(purchase_data_df)
purchase_data_df.head()

